{
 "cells": [
  {
   "cell_type": "code",
   "execution_count": null,
   "metadata": {},
   "outputs": [],
   "source": [
    "from PRM2ORM import PRM2ORM\n",
    "import torch\n",
    "from transformers import AutoModelForCausalLM, AutoTokenizer\n",
    "\n",
    "\n",
    "# initialize variable\n",
    "INPUT_PATH = 'src/en-zh'\n",
    "# The name/path of the trained model and reference model.\n",
    "TRAINED_PATH = 'sabijun/MT-PRM-LLaMA-3.2-3B'\n",
    "REF_PATH = 'meta-llama/Llama-3.2-3B-Instruct'\n",
    "# gpu index\n",
    "trained_device = 'cuda:0'\n",
    "ref_device = 'cuda:1'\n",
    "# The method of Sequence-level score calculation.\n",
    "# Possible choices: 'weighted', 'length normalized'\n",
    "method = 'weighted'\n",
    "# correspond with the translation direction\n",
    "# e.g. from Chinese to English\n",
    "language_pair = ['English', 'Chinese']"
   ]
  },
  {
   "cell_type": "code",
   "execution_count": 2,
   "metadata": {},
   "outputs": [
    {
     "data": {
      "application/vnd.jupyter.widget-view+json": {
       "model_id": "2a59e83f917b4f9e986b307ace8f5980",
       "version_major": 2,
       "version_minor": 0
      },
      "text/plain": [
       "Loading checkpoint shards:   0%|          | 0/2 [00:00<?, ?it/s]"
      ]
     },
     "metadata": {},
     "output_type": "display_data"
    },
    {
     "data": {
      "application/vnd.jupyter.widget-view+json": {
       "model_id": "6d54aa6c2208486c967416586aa1ebfe",
       "version_major": 2,
       "version_minor": 0
      },
      "text/plain": [
       "Loading checkpoint shards:   0%|          | 0/2 [00:00<?, ?it/s]"
      ]
     },
     "metadata": {},
     "output_type": "display_data"
    }
   ],
   "source": [
    "# load the models\n",
    "trained_model = AutoModelForCausalLM.from_pretrained(TRAINED_PATH, torch_dtype=torch.bfloat16).to(trained_device)\n",
    "ref_model = AutoModelForCausalLM.from_pretrained(REF_PATH, torch_dtype=torch.bfloat16).to(ref_device)\n",
    "tokenizer = AutoTokenizer.from_pretrained(REF_PATH)"
   ]
  },
  {
   "cell_type": "code",
   "execution_count": 5,
   "metadata": {},
   "outputs": [],
   "source": [
    "prm2orm = PRM2ORM(trained_model, trained_device, ref_model, ref_device, tokenizer)"
   ]
  },
  {
   "cell_type": "code",
   "execution_count": 6,
   "metadata": {},
   "outputs": [
    {
     "name": "stderr",
     "output_type": "stream",
     "text": [
      "/home/jiahan/anaconda3/envs/mt/lib/python3.12/site-packages/transformers/generation/configuration_utils.py:628: UserWarning: `do_sample` is set to `False`. However, `temperature` is set to `0.7` -- this flag is only used in sample-based generation modes. You should set `do_sample=True` or unset `temperature`.\n",
      "  warnings.warn(\n",
      "/home/jiahan/anaconda3/envs/mt/lib/python3.12/site-packages/transformers/generation/configuration_utils.py:633: UserWarning: `do_sample` is set to `False`. However, `top_p` is set to `0.8` -- this flag is only used in sample-based generation modes. You should set `do_sample=True` or unset `top_p`.\n",
      "  warnings.warn(\n",
      "/home/jiahan/anaconda3/envs/mt/lib/python3.12/site-packages/transformers/generation/configuration_utils.py:650: UserWarning: `do_sample` is set to `False`. However, `top_k` is set to `20` -- this flag is only used in sample-based generation modes. You should set `do_sample=True` or unset `top_k`.\n",
      "  warnings.warn(\n",
      "From v4.47 onwards, when a model cache is to be returned, `generate` will return a `Cache` instance instead by default (as opposed to the legacy tuple of tuples format). If you want to keep returning the legacy format, please set `return_legacy_cache=True`.\n"
     ]
    },
    {
     "name": "stdout",
     "output_type": "stream",
     "text": [
      "The hacked up version of Jedi Knight was crashing because it was calling a function off the end of a vtable.\n",
      "绝地武士的破解版崩溃了，因为它调用了 vtable 结尾的一个函数。\n",
      "score:-3.2380893230438232\n",
      "Even if it's true that such facts exist in science it's still possible to argue that scientific facts are theory-laden.\n",
      "即使这些事实确实存在于科学之中，仍然有可能认为科学事实是纯理论的。\n",
      "score:2.5001437664031982\n"
     ]
    }
   ],
   "source": [
    "# read the sentence\n",
    "f = open(INPUT_PATH, 'r', encoding='utf-8')\n",
    "lines = f.read().splitlines()\n",
    "f.close()\n",
    "\n",
    "f = open('output/results', 'w', encoding='utf-8')\n",
    "for i in range(len(lines) // 2):\n",
    "    score = prm2orm.score(['English', 'Chinese'], lines[2*i], lines[2*i+1], method)\n",
    "    f.write(lines[2*i] + '\\n' + lines[2*i+1] + '\\t' + str(score.item()) + '\\n')\n",
    "    print(lines[2*i] + '\\n' + lines[2*i+1] + '\\nscore:' + str(score.item()))\n",
    "f.close()"
   ]
  }
 ],
 "metadata": {
  "kernelspec": {
   "display_name": "mt",
   "language": "python",
   "name": "python3"
  },
  "language_info": {
   "codemirror_mode": {
    "name": "ipython",
    "version": 3
   },
   "file_extension": ".py",
   "mimetype": "text/x-python",
   "name": "python",
   "nbconvert_exporter": "python",
   "pygments_lexer": "ipython3",
   "version": "3.12.8"
  }
 },
 "nbformat": 4,
 "nbformat_minor": 2
}
