{
 "cells": [
  {
   "cell_type": "code",
   "execution_count": null,
   "metadata": {},
   "outputs": [],
   "source": [
    "from PRM2ORM import PRM2ORM\n",
    "import torch\n",
    "from transformers import AutoModelForCausalLM, AutoTokenizer\n",
    "\n",
    "\n",
    "# initialize variable\n",
    "INPUT_PATH = 'src/en-zh'\n",
    "# The name/path of the trained model and reference model.\n",
    "TRAINED_PATH = 'sabijun/MT-PRM-LLaMA-3.2-3B'\n",
    "REF_PATH = 'meta-llama/Llama-3.2-3B-Instruct'\n",
    "# gpu index\n",
    "trained_device = 'cuda:0'\n",
    "ref_device = 'cuda:1'\n",
    "# The method of Sequence-level score calculation.\n",
    "# Possible choices: 'weighted', 'length normalized'\n",
    "method = 'weighted'\n",
    "# correspond with the translation direction\n",
    "# e.g. from Chinese to English\n",
    "language_pair = ['English', 'Chinese']"
   ]
  },
  {
   "cell_type": "code",
   "execution_count": null,
   "metadata": {},
   "outputs": [],
   "source": [
    "# load the models\n",
    "trained_model = AutoModelForCausalLM.from_pretrained(TRAINED_PATH, torch_dtype=torch.bfloat16).to(trained_device)\n",
    "ref_model = AutoModelForCausalLM.from_pretrained(REF_PATH, torch_dtype=torch.bfloat16).to(ref_device)\n",
    "tokenizer = AutoTokenizer.from_pretrained(REF_PATH)"
   ]
  },
  {
   "cell_type": "code",
   "execution_count": null,
   "metadata": {},
   "outputs": [],
   "source": [
    "prm2orm = PRM2ORM(trained_model, trained_device, ref_model, ref_device, tokenizer)"
   ]
  },
  {
   "cell_type": "code",
   "execution_count": null,
   "metadata": {},
   "outputs": [],
   "source": [
    "# read the sentence\n",
    "f = open(INPUT_PATH, 'r', encoding='utf-8')\n",
    "lines = f.read().splitlines()\n",
    "f.close()\n",
    "\n",
    "f = open('output/results', 'w', encoding='utf-8')\n",
    "for i in range(len(lines) // 2):\n",
    "    score = prm2orm.score(['English', 'Chinese'], lines[2*i], lines[2*i+1], method)\n",
    "    f.write(lines[2*i] + '\\n' + lines[2*i+1] + '\\t' + str(score.item()) + '\\n')\n",
    "    print(lines[2*i] + '\\n' + lines[2*i+1] + '\\nscore:' + str(score.item()))\n",
    "f.close()"
   ]
  }
 ],
 "metadata": {
  "kernelspec": {
   "display_name": "mt",
   "language": "python",
   "name": "python3"
  },
  "language_info": {
   "codemirror_mode": {
    "name": "ipython",
    "version": 3
   },
   "file_extension": ".py",
   "mimetype": "text/x-python",
   "name": "python",
   "nbconvert_exporter": "python",
   "pygments_lexer": "ipython3",
   "version": "3.12.8"
  }
 },
 "nbformat": 4,
 "nbformat_minor": 2
}
