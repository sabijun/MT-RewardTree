{
 "cells": [
  {
   "cell_type": "code",
   "execution_count": null,
   "metadata": {},
   "outputs": [],
   "source": [
    "from MCTS import MT\n",
    "from transformers import AutoTokenizer, AutoModelForCausalLM\n",
    "from comet import download_model, load_from_checkpoint\n",
    "import torch\n",
    "import os"
   ]
  },
  {
   "cell_type": "code",
   "execution_count": null,
   "metadata": {},
   "outputs": [],
   "source": [
    "# initialization variable\n",
    "INPUT_PATH = 'src/zh-en'\n",
    "OUTPUT_PATH = 'output/results'\n",
    "# the name/path of the translation model\n",
    "LLM_PATH = 'Unbabel/TowerInstruct-7B-v0.2'\n",
    "# the evaluation model name(must be reference-free)\n",
    "# recommend cometkiwi, other options may need code adjustments.\n",
    "EVA_PATH = 'Unbabel/wmt22-cometkiwi-da'\n",
    "# the gpu number\n",
    "gpu_map = '6,7'\n",
    "# the score threshold that determine if the translation pair will be logged\n",
    "threshold = [0.04,0.4]\n",
    "# correspond with the translation direction\n",
    "# e.g. from Chinese to English\n",
    "language_pair = ['Chinese', 'English']"
   ]
  },
  {
   "cell_type": "code",
   "execution_count": null,
   "metadata": {},
   "outputs": [],
   "source": [
    "# load the models\n",
    "os.environ['CUDA_VISIBLE_DEVICES'] = gpu_map\n",
    "llm = AutoModelForCausalLM.from_pretrained(LLM_PATH, torch_dtype=torch.bfloat16, device_map='auto')\n",
    "tokenizer = AutoTokenizer.from_pretrained(LLM_PATH)\n",
    "\n",
    "model_path = download_model(EVA_PATH)\n",
    "eva = load_from_checkpoint(model_path)\n",
    "# Or you can load from your local device\n",
    "# eva = load_from_checkpoint(EVA_PATH)"
   ]
  },
  {
   "cell_type": "code",
   "execution_count": null,
   "metadata": {},
   "outputs": [],
   "source": [
    "mt = MT(llm, tokenizer, eva, threshold, OUTPUT_PATH, language_pair)"
   ]
  },
  {
   "cell_type": "code",
   "execution_count": null,
   "metadata": {},
   "outputs": [],
   "source": [
    "# read the source sentence\n",
    "f = open(INPUT_PATH, 'r', encoding='utf-8')\n",
    "lines = f.read().splitlines()\n",
    "f.close()\n",
    "\n",
    "for line in lines:\n",
    "    mt.process(line)"
   ]
  }
 ],
 "metadata": {
  "kernelspec": {
   "display_name": "mt",
   "language": "python",
   "name": "python3"
  },
  "language_info": {
   "codemirror_mode": {
    "name": "ipython",
    "version": 3
   },
   "file_extension": ".py",
   "mimetype": "text/x-python",
   "name": "python",
   "nbconvert_exporter": "python",
   "pygments_lexer": "ipython3",
   "version": "3.12.8"
  }
 },
 "nbformat": 4,
 "nbformat_minor": 2
}
